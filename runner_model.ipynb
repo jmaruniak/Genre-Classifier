{
 "cells": [
  {
   "cell_type": "code",
   "execution_count": null,
   "metadata": {},
   "outputs": [],
   "source": [
    "import import_ipynb\n",
    "import cnn_genre_classifier as mgr\n",
    "import numpy as np\n",
    "import torch\n",
    "from pytorch_model_summary import summary"
   ]
  },
  {
   "cell_type": "markdown",
   "metadata": {},
   "source": [
    "# Data preparation"
   ]
  },
  {
   "cell_type": "code",
   "execution_count": null,
   "metadata": {},
   "outputs": [],
   "source": [
    "# create new sets from extracted spectrogram/mfcc features file or load existing sets\n",
    "\n",
    "# DATA_PATH = \"/data/shared/GTZAN-DATASET/spectrograms_10segments.npy\"\n",
    "# DATA_PATH = \"/data/shared/GTZAN-DATASET/mfccs40_10segments.npy\"\n",
    "# X_train, X_validation, X_test, y_train, y_validation, y_test, scale_min, scale_max = mgr.load_data(DATA_PATH, test_size=0.20, validation_size=0.15, scale=True)\n",
    "\n",
    "feature_sets = torch.load(\"./data/feature_sets/spectro10_normalized.pth\")\n",
    "# feature_sets = torch.load(\"./data/feature_sets/40mfcc10_normalized.pth\")\n",
    "X_train = feature_sets['X_train']\n",
    "X_validation = feature_sets['X_validation']\n",
    "X_test = feature_sets['X_test']\n",
    "y_train = feature_sets['y_train']\n",
    "y_validation = feature_sets['y_validation']\n",
    "y_test = feature_sets['y_test']\n",
    "scale_min = feature_sets['scale_min']\n",
    "scale_max = feature_sets['scale_max']\n",
    "\n",
    "mgr.plot_feature_sets(y_train, y_validation, y_test)"
   ]
  },
  {
   "cell_type": "markdown",
   "metadata": {},
   "source": [
    "# Training and results"
   ]
  },
  {
   "cell_type": "code",
   "execution_count": null,
   "metadata": {},
   "outputs": [],
   "source": [
    "# load existing or create new model\n",
    "\n",
    "model = mgr.new_model()\n",
    "# model = mgr.load_model(\"./data/saved_models/model-spectro10-epoch15-batch64_512-norm.pth\")\n",
    "# history = torch.load(\"./data/saved_models/model-spectro10-epoch15-batch64_512-norm_history.pth\")\n",
    "\n",
    "print(summary(model, torch.rand(1, 1, np.shape(X_train)[2], np.shape(X_train)[3]).cuda()), sep='\\n')"
   ]
  },
  {
   "cell_type": "code",
   "execution_count": null,
   "metadata": {},
   "outputs": [],
   "source": [
    "# training loop\n",
    "\n",
    "history = model.fit(\n",
    "    X_train, y_train,\n",
    "    validation_data=(X_validation, y_validation),\n",
    "    epochs=5,\n",
    "    batch_size=64,\n",
    "    log=True,\n",
    "    history=None)"
   ]
  },
  {
   "cell_type": "code",
   "execution_count": null,
   "metadata": {},
   "outputs": [],
   "source": [
    "# plot results\n",
    "\n",
    "mgr.plot_history(history)\n",
    "print(\"Max_train_acc:\", max(history['acc']), \"  Min_train_loss:\", min(history['loss']))\n",
    "print(\"Max_val_acc:\", max(history['val_acc']), \"  Min_val_loss:\", min(history['val_loss']))\n",
    "t_acc, t_loss = model.test(X_test, y_test, out=True)"
   ]
  },
  {
   "cell_type": "code",
   "execution_count": null,
   "metadata": {},
   "outputs": [],
   "source": [
    "# create and plot confusion matrix\n",
    "\n",
    "model_predictions = model.get_predictions(X_test)\n",
    "matrix = mgr.create_confusion_matrix(model_predictions, y_test)\n",
    "mgr.plot_confusion_matrix(matrix)\n",
    "\n",
    "matrix = matrix.numpy()\n",
    "true_pos = np.diag(matrix)\n",
    "false_pos = np.sum(matrix, axis=0) - true_pos\n",
    "false_neg = np.sum(matrix, axis=1) - true_pos\n",
    "\n",
    "precision = true_pos / (true_pos + false_pos)\n",
    "recall = true_pos / (true_pos + false_neg)"
   ]
  },
  {
   "cell_type": "code",
   "execution_count": null,
   "metadata": {},
   "outputs": [],
   "source": [
    "# rename model\n",
    "\n",
    "model.model_name = 'model-spectro10-epoch15-batch64_512-norm'"
   ]
  },
  {
   "cell_type": "code",
   "execution_count": null,
   "metadata": {},
   "outputs": [],
   "source": [
    "# save model\n",
    "\n",
    "mgr.save_model(model, \"./data/saved_models\")"
   ]
  },
  {
   "cell_type": "code",
   "execution_count": null,
   "metadata": {},
   "outputs": [],
   "source": [
    "# save training history\n",
    "\n",
    "torch.save(history, \"./data/saved_models/\"  + model.model_name + \"_history.pth\")"
   ]
  }
 ],
 "metadata": {
  "kernelspec": {
   "display_name": "env",
   "language": "python",
   "name": "env"
  },
  "language_info": {
   "codemirror_mode": {
    "name": "ipython",
    "version": 3
   },
   "file_extension": ".py",
   "mimetype": "text/x-python",
   "name": "python",
   "nbconvert_exporter": "python",
   "pygments_lexer": "ipython3",
   "version": "3.7.5"
  }
 },
 "nbformat": 4,
 "nbformat_minor": 4
}
