{
 "cells": [
  {
   "cell_type": "code",
   "execution_count": null,
   "id": "homeless-mandate",
   "metadata": {},
   "outputs": [],
   "source": [
    "import import_ipynb\n",
    "import cnn_genre_classifier_spectrograms as mgr\n",
    "import IPython.display as ipd\n",
    "import librosa\n",
    "import numpy as np\n",
    "import torch\n",
    "from captum.attr import IntegratedGradients"
   ]
  },
  {
   "cell_type": "code",
   "execution_count": null,
   "id": "public-stress",
   "metadata": {},
   "outputs": [],
   "source": [
    "dataset = torch.load(\"./data/feature_sets/spectro10_normalized.pth\")\n",
    "X_train = dataset['X_train']\n",
    "X_validation = dataset['X_validation']\n",
    "X_test = dataset['X_test']\n",
    "y_train = dataset['y_train']\n",
    "y_validation = dataset['y_validation']\n",
    "y_test = dataset['y_test']\n",
    "scale_min = dataset['scale_min']\n",
    "scale_max = dataset['scale_max']"
   ]
  },
  {
   "cell_type": "code",
   "execution_count": null,
   "id": "color-desktop",
   "metadata": {},
   "outputs": [],
   "source": [
    "model = mgr.load_model(\"./data/saved_models/model-spectro10-epoch15-batch64_512-norm.pth\")\n",
    "model_predictions = model.get_predictions(X_test)\n",
    "matrix = mgr.create_confusion_matrix(model_predictions, y_test)\n",
    "mgr.plot_confusion_matrix(matrix)\n",
    "\n",
    "matrix = matrix.numpy()\n",
    "true_pos = np.diag(matrix)\n",
    "false_pos = np.sum(matrix, axis=0) - true_pos\n",
    "false_neg = np.sum(matrix, axis=1) - true_pos\n",
    "\n",
    "precision = true_pos / (true_pos + false_pos)\n",
    "recall = true_pos / (true_pos + false_neg)"
   ]
  },
  {
   "cell_type": "code",
   "execution_count": null,
   "id": "robust-walnut",
   "metadata": {},
   "outputs": [],
   "source": [
    "for index, (p, q) in enumerate(zip(model_predictions.argmax(dim=1).type(torch.LongTensor), y_test.type(torch.LongTensor))):\n",
    "    if (p == 9 and q == 1):\n",
    "        print(index)"
   ]
  },
  {
   "cell_type": "code",
   "execution_count": null,
   "id": "excellent-england",
   "metadata": {},
   "outputs": [],
   "source": [
    "X_db = mgr.unscale_input(X_test[1787][0], scale_min, scale_max).numpy()\n",
    "X_amplitude = librosa.db_to_amplitude(X_db)\n",
    "reconstruction = librosa.griffinlim(X_amplitude, hop_length=512, win_length=1024)\n",
    "\n",
    "model = mgr.load_model(\"./data/saved_models/model-spectro10-epoch15-batch64_512-norm.pth\").cpu().eval()\n",
    "output = model(X_test[1787].unsqueeze(0))\n",
    "prediction = torch.argmax(output)\n",
    "print(output, prediction)\n",
    "\n",
    "ipd.Audio(reconstruction, rate=22050)"
   ]
  },
  {
   "cell_type": "code",
   "execution_count": null,
   "id": "steady-charlotte",
   "metadata": {},
   "outputs": [],
   "source": []
  },
  {
   "cell_type": "code",
   "execution_count": null,
   "id": "intimate-profession",
   "metadata": {},
   "outputs": [],
   "source": []
  },
  {
   "cell_type": "code",
   "execution_count": null,
   "id": "higher-bernard",
   "metadata": {},
   "outputs": [],
   "source": [
    "model = mgr.load_model(\"./data/saved_models/model-spectro10-epoch15-batch64_512-norm.pth\").cpu().eval()\n",
    "gbp = mgr.GuidedBackprop(model)\n",
    "guided_grads = gbp.generate_gradients(X_test[1787].unsqueeze(0), 5)\n",
    "pos_sal_gbp, _ = mgr.get_positive_negative_saliency(guided_grads)\n",
    "X_masked_gbp = X_amplitude * pos_sal_gbp\n",
    "reconstruction_gbp = librosa.griffinlim(X_masked_gbp, hop_length=512, win_length=1024)\n",
    "X_masked_gbp = librosa.amplitude_to_db(X_masked_gbp)"
   ]
  },
  {
   "cell_type": "code",
   "execution_count": null,
   "id": "corrected-bookmark",
   "metadata": {},
   "outputs": [],
   "source": [
    "mgr.plot_spectrogram(pos_sal_gbp, 22050, 512)"
   ]
  },
  {
   "cell_type": "code",
   "execution_count": null,
   "id": "distinct-market",
   "metadata": {},
   "outputs": [],
   "source": [
    "mgr.plot_spectrogram(X_db, 22050, 512)"
   ]
  },
  {
   "cell_type": "code",
   "execution_count": null,
   "id": "alternative-machinery",
   "metadata": {},
   "outputs": [],
   "source": [
    "mgr.plot_spectrogram(X_masked_gbp, 22050, 512, title=\"GBP masked spectrum\")"
   ]
  },
  {
   "cell_type": "code",
   "execution_count": null,
   "id": "toxic-aggregate",
   "metadata": {},
   "outputs": [],
   "source": [
    "ipd.Audio(reconstruction_gbp, rate=22050)\n",
    "# sf.write(\"./sample_masked_gbp.wav\", reconstruction_gbp, 22050)"
   ]
  },
  {
   "cell_type": "code",
   "execution_count": null,
   "id": "floppy-reduction",
   "metadata": {},
   "outputs": [],
   "source": []
  },
  {
   "cell_type": "code",
   "execution_count": null,
   "id": "missing-iceland",
   "metadata": {},
   "outputs": [],
   "source": [
    "model = mgr.load_model(\"./data/saved_models/model-spectro10-epoch15-batch64_512-norm.pth\").cpu().eval()\n",
    "baseline = torch.zeros(1, 1, 513, 130)\n",
    "ig = IntegratedGradients(model)\n",
    "integrated_grads = ig.attribute(X_test[1787].unsqueeze(0), baseline, 9).squeeze().numpy()\n",
    "pos_sal_ig, _ = mgr.get_positive_negative_saliency(integrated_grads)\n",
    "X_masked_ig = X_amplitude * pos_sal_ig\n",
    "reconstruction_ig = librosa.griffinlim(X_masked_ig, hop_length=512, win_length=1024)\n",
    "X_masked_ig = librosa.amplitude_to_db(X_masked_ig)"
   ]
  },
  {
   "cell_type": "code",
   "execution_count": null,
   "id": "through-given",
   "metadata": {},
   "outputs": [],
   "source": [
    "mgr.plot_spectrogram(pos_sal_ig, 22050, 512)"
   ]
  },
  {
   "cell_type": "code",
   "execution_count": null,
   "id": "regulation-shareware",
   "metadata": {},
   "outputs": [],
   "source": [
    "mgr.plot_spectrogram(X_db, 22050, 512)"
   ]
  },
  {
   "cell_type": "code",
   "execution_count": null,
   "id": "burning-scratch",
   "metadata": {},
   "outputs": [],
   "source": [
    "mgr.plot_spectrogram(X_masked_ig, 22050, 512, title=\"IG masked spectrum\")"
   ]
  },
  {
   "cell_type": "code",
   "execution_count": null,
   "id": "devoted-accessory",
   "metadata": {},
   "outputs": [],
   "source": [
    "ipd.Audio(reconstruction_ig, rate=22050)\n",
    "# sf.write(\"./sample_masked_ig.wav\", reconstruction_ig, 22050)"
   ]
  }
 ],
 "metadata": {
  "kernelspec": {
   "display_name": "env",
   "language": "python",
   "name": "env"
  },
  "language_info": {
   "codemirror_mode": {
    "name": "ipython",
    "version": 3
   },
   "file_extension": ".py",
   "mimetype": "text/x-python",
   "name": "python",
   "nbconvert_exporter": "python",
   "pygments_lexer": "ipython3",
   "version": "3.7.5"
  }
 },
 "nbformat": 4,
 "nbformat_minor": 5
}
