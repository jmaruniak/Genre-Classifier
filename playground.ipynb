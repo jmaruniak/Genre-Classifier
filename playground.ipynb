{
 "cells": [
  {
   "cell_type": "code",
   "execution_count": null,
   "id": "bizarre-amount",
   "metadata": {},
   "outputs": [],
   "source": [
    "import import_ipynb\n",
    "import cnn_genre_classifier_spectrograms as mgr\n",
    "import numpy as np\n",
    "import torch"
   ]
  },
  {
   "cell_type": "code",
   "execution_count": null,
   "id": "supposed-wings",
   "metadata": {},
   "outputs": [],
   "source": [
    "dataset = torch.load(\"./data/feature_sets/spectro10_normalized.pth\")\n",
    "X_train = dataset['X_train']\n",
    "X_validation = dataset['X_validation']\n",
    "X_test = dataset['X_test']\n",
    "y_train = dataset['y_train']\n",
    "y_validation = dataset['y_validation']\n",
    "y_test = dataset['y_test']\n",
    "scale_min = dataset['scale_min']\n",
    "scale_max = dataset['scale_max']"
   ]
  },
  {
   "cell_type": "code",
   "execution_count": null,
   "id": "possible-magnitude",
   "metadata": {},
   "outputs": [],
   "source": [
    "model = mgr.load_model(\"./data/saved_models/model-spectro10-epoch15-batch64_512-norm.pth\")"
   ]
  },
  {
   "cell_type": "code",
   "execution_count": null,
   "id": "indie-chosen",
   "metadata": {},
   "outputs": [],
   "source": [
    "model_predictions = model.get_predictions(X_test)\n",
    "matrix = mgr.create_confusion_matrix(model_predictions, y_test)\n",
    "mgr.plot_confusion_matrix(matrix)\n",
    "\n",
    "matrix = matrix.numpy()\n",
    "true_pos = np.diag(matrix)\n",
    "false_pos = np.sum(matrix, axis=0) - true_pos\n",
    "false_neg = np.sum(matrix, axis=1) - true_pos\n",
    "\n",
    "precision = true_pos / (true_pos + false_pos)\n",
    "recall = true_pos / (true_pos + false_neg)"
   ]
  },
  {
   "cell_type": "code",
   "execution_count": null,
   "id": "demographic-wesley",
   "metadata": {},
   "outputs": [],
   "source": []
  },
  {
   "cell_type": "code",
   "execution_count": null,
   "id": "coral-judgment",
   "metadata": {},
   "outputs": [],
   "source": [
    "for index, (p, q) in enumerate(zip(model_predictions.argmax(dim=1).type(torch.LongTensor), y_test.type(torch.LongTensor))):\n",
    "    if (p == 9 and q == 1):\n",
    "        print(index)"
   ]
  },
  {
   "cell_type": "code",
   "execution_count": null,
   "id": "provincial-mississippi",
   "metadata": {},
   "outputs": [],
   "source": [
    "X_db = mgr.unscale_input(X_test[1787][0], scale_min, scale_max).numpy()\n",
    "X_amplitude = librosa.db_to_amplitude(X_db)\n",
    "reconstruction = librosa.griffinlim(X_amplitude, hop_length=512, win_length=1024)\n",
    "ipd.Audio(reconstruction, rate=22050)"
   ]
  },
  {
   "cell_type": "code",
   "execution_count": null,
   "id": "colonial-classroom",
   "metadata": {},
   "outputs": [],
   "source": [
    "mgr.plot_spectrogram(X_db, 22050, 512, \"linear\", size=(10,5))"
   ]
  },
  {
   "cell_type": "code",
   "execution_count": null,
   "id": "beneficial-payment",
   "metadata": {},
   "outputs": [],
   "source": []
  },
  {
   "cell_type": "code",
   "execution_count": null,
   "id": "exact-efficiency",
   "metadata": {},
   "outputs": [],
   "source": [
    "model = mgr.load_model(\"./data/saved_models/model-spectro10-epoch15-batch64_512-norm.pth\").cpu().eval()\n",
    "gbp = mgr.GuidedBackprop(model)\n",
    "guided_grads = gbp.generate_gradients(X_test[1787].unsqueeze(0), 6)\n",
    "pos_sal_gbp, _ = mgr.get_positive_negative_saliency(guided_grads)"
   ]
  },
  {
   "cell_type": "code",
   "execution_count": null,
   "id": "buried-realtor",
   "metadata": {},
   "outputs": [],
   "source": [
    "mgr.plot_spectrogram(pos_sal_gbp, 22050, 512)"
   ]
  },
  {
   "cell_type": "code",
   "execution_count": null,
   "id": "sapphire-camera",
   "metadata": {},
   "outputs": [],
   "source": [
    "X_masked_gbp = X_amplitude * pos_sal_gbp\n",
    "reconstruction_gbp = librosa.griffinlim(X_masked_gbp, hop_length=512, win_length=1024)\n",
    "X_masked_gbp = librosa.amplitude_to_db(X_masked_gbp)"
   ]
  },
  {
   "cell_type": "code",
   "execution_count": null,
   "id": "based-picking",
   "metadata": {},
   "outputs": [],
   "source": [
    "mgr.plot_spectrogram(X_masked_gbp, sample_rate, 512, title=\"GBP masked spectrum\")"
   ]
  },
  {
   "cell_type": "code",
   "execution_count": null,
   "id": "meaningful-veteran",
   "metadata": {},
   "outputs": [],
   "source": [
    "ipd.Audio(reconstruction_gbp, rate=22050)"
   ]
  },
  {
   "cell_type": "code",
   "execution_count": null,
   "id": "dedicated-million",
   "metadata": {},
   "outputs": [],
   "source": [
    "sf.write(\"./sample_masked_gbp.wav\", reconstruction_gbp, sample_rate)"
   ]
  }
 ],
 "metadata": {
  "kernelspec": {
   "display_name": "env",
   "language": "python",
   "name": "env"
  },
  "language_info": {
   "codemirror_mode": {
    "name": "ipython",
    "version": 3
   },
   "file_extension": ".py",
   "mimetype": "text/x-python",
   "name": "python",
   "nbconvert_exporter": "python",
   "pygments_lexer": "ipython3",
   "version": "3.7.5"
  }
 },
 "nbformat": 4,
 "nbformat_minor": 5
}
