{
 "cells": [
  {
   "cell_type": "code",
   "execution_count": 7,
   "metadata": {},
   "outputs": [],
   "source": [
    "import import_ipynb\n",
    "import cnn_genre_classifier_spectrograms as mgr\n",
    "import torch\n",
    "import numpy as np\n",
    "from pytorch_model_summary import summary\n",
    "\n",
    "\n",
    "# path to file that stores spectrograms and genre labels for each processed segment\n",
    "DATA_PATH = \"/data/shared/GTZAN-DATASET/spectrograms_10segments.npy\""
   ]
  },
  {
   "cell_type": "code",
   "execution_count": 2,
   "metadata": {},
   "outputs": [
    {
     "name": "stdout",
     "output_type": "stream",
     "text": [
      "Loading data...\n",
      "Data succesfully loaded!\n"
     ]
    }
   ],
   "source": [
    "# load and split processed dataset\n",
    "\n",
    "X_train, X_validation, X_test, y_train, y_validation, y_test = mgr.load_data(DATA_PATH, test_size=0.10, validation_size=0.10)"
   ]
  },
  {
   "cell_type": "code",
   "execution_count": 10,
   "metadata": {},
   "outputs": [
    {
     "name": "stdout",
     "output_type": "stream",
     "text": [
      "Running on the GPU\n"
     ]
    }
   ],
   "source": [
    "# declare execution device\n",
    "\n",
    "if torch.cuda.is_available():\n",
    "    device = torch.device(\"cuda:0\")\n",
    "    print(\"Running on the GPU\")\n",
    "\n",
    "else:\n",
    "    device = torch.device(\"cpu\")\n",
    "    print(\"Running on the CPU\")"
   ]
  },
  {
   "cell_type": "code",
   "execution_count": 8,
   "metadata": {},
   "outputs": [
    {
     "name": "stdout",
     "output_type": "stream",
     "text": [
      "Model(\n",
      "  (conv1): Conv2d(1, 32, kernel_size=(3, 3), stride=(1, 1))\n",
      "  (norm1): BatchNorm2d(32, eps=1e-05, momentum=0.1, affine=True, track_running_stats=True)\n",
      "  (conv2): Conv2d(32, 32, kernel_size=(3, 3), stride=(1, 1))\n",
      "  (norm2): BatchNorm2d(32, eps=1e-05, momentum=0.1, affine=True, track_running_stats=True)\n",
      "  (conv3): Conv2d(32, 32, kernel_size=(2, 2), stride=(1, 1))\n",
      "  (norm3): BatchNorm2d(32, eps=1e-05, momentum=0.1, affine=True, track_running_stats=True)\n",
      "  (conv4): Conv2d(32, 32, kernel_size=(2, 2), stride=(1, 1))\n",
      "  (norm4): BatchNorm2d(32, eps=1e-05, momentum=0.1, affine=True, track_running_stats=True)\n",
      "  (fc1): Linear(in_features=8192, out_features=128, bias=True)\n",
      "  (fc2): Linear(in_features=128, out_features=10, bias=True)\n",
      "  (dropout): Dropout(p=0.2, inplace=False)\n",
      "  (loss_function): CrossEntropyLoss()\n",
      ")\n",
      "-------------------------------------------------------------------------\n",
      "      Layer (type)          Output Shape         Param #     Tr. Param #\n",
      "=========================================================================\n",
      "          Conv2d-1     [1, 32, 511, 128]             320             320\n",
      "     BatchNorm2d-2      [1, 32, 256, 64]              64              64\n",
      "          Conv2d-3      [1, 32, 254, 62]           9,248           9,248\n",
      "     BatchNorm2d-4      [1, 32, 127, 31]              64              64\n",
      "          Conv2d-5      [1, 32, 126, 30]           4,128           4,128\n",
      "     BatchNorm2d-6       [1, 32, 64, 16]              64              64\n",
      "          Conv2d-7       [1, 32, 63, 15]           4,128           4,128\n",
      "     BatchNorm2d-8        [1, 32, 32, 8]              64              64\n",
      "          Linear-9              [1, 128]       1,048,704       1,048,704\n",
      "        Dropout-10              [1, 128]               0               0\n",
      "         Linear-11               [1, 10]           1,290           1,290\n",
      "=========================================================================\n",
      "Total params: 1,068,074\n",
      "Trainable params: 1,068,074\n",
      "Non-trainable params: 0\n",
      "-------------------------------------------------------------------------\n"
     ]
    }
   ],
   "source": [
    "# load existing or create new model\n",
    "\n",
    "model = mgr.new_model(device)\n",
    "# model = mgr.load_model(\"./saved_models/model-1616675807trained.pth\", device)\n",
    "\n",
    "print(summary(model, torch.rand(1, 1, np.shape(X_train)[2], np.shape(X_train)[3]).to(device)), sep='\\n')"
   ]
  },
  {
   "cell_type": "code",
   "execution_count": 11,
   "metadata": {},
   "outputs": [
    {
     "name": "stderr",
     "output_type": "stream",
     "text": [
      "  0%|          | 0/40 [00:00<?, ?it/s]\n"
     ]
    },
    {
     "ename": "NameError",
     "evalue": "name 'device' is not defined",
     "output_type": "error",
     "traceback": [
      "\u001b[0;31m---------------------------------------------------------------------------\u001b[0m",
      "\u001b[0;31mNameError\u001b[0m                                 Traceback (most recent call last)",
      "\u001b[0;32m<ipython-input-11-2a38aed9c1e7>\u001b[0m in \u001b[0;36m<module>\u001b[0;34m\u001b[0m\n\u001b[1;32m      6\u001b[0m     \u001b[0mepochs\u001b[0m\u001b[0;34m=\u001b[0m\u001b[0;36m40\u001b[0m\u001b[0;34m,\u001b[0m\u001b[0;34m\u001b[0m\u001b[0;34m\u001b[0m\u001b[0m\n\u001b[1;32m      7\u001b[0m     \u001b[0mbatch_size\u001b[0m\u001b[0;34m=\u001b[0m\u001b[0;36m128\u001b[0m\u001b[0;34m,\u001b[0m\u001b[0;34m\u001b[0m\u001b[0;34m\u001b[0m\u001b[0m\n\u001b[0;32m----> 8\u001b[0;31m     log=True)\n\u001b[0m\u001b[1;32m      9\u001b[0m \u001b[0;34m\u001b[0m\u001b[0m\n\u001b[1;32m     10\u001b[0m \u001b[0mmgr\u001b[0m\u001b[0;34m.\u001b[0m\u001b[0mplot_history\u001b[0m\u001b[0;34m(\u001b[0m\u001b[0mhistory\u001b[0m\u001b[0;34m)\u001b[0m\u001b[0;34m\u001b[0m\u001b[0;34m\u001b[0m\u001b[0m\n",
      "\u001b[0;32m~/Genre-Classifier/cnn_genre_classifier_spectrograms.ipynb\u001b[0m in \u001b[0;36mfit\u001b[0;34m(self, X_train, y_train, validation_data, epochs, batch_size, log)\u001b[0m\n",
      "\u001b[0;31mNameError\u001b[0m: name 'device' is not defined"
     ]
    }
   ],
   "source": [
    "# training pipeline\n",
    "\n",
    "history = model.fit(\n",
    "    X_train, y_train,\n",
    "    validation_data=(X_validation, y_validation), \n",
    "    epochs=40, \n",
    "    batch_size=128,\n",
    "    log=True)\n",
    "\n",
    "mgr.plot_history(history)\n",
    "\n",
    "print(\"Max_val_acc:\", max(history['val_acc']), \"  Max_train_acc:\", max(history['acc']))\n",
    "print(\"Min_val_loss:\", min(history['val_loss']), \"  Min_train_loss:\", min(history['loss']))\n",
    "    \n",
    "model.test(X_test, y_test, out=True)"
   ]
  },
  {
   "cell_type": "code",
   "execution_count": null,
   "metadata": {},
   "outputs": [],
   "source": [
    "save_model(model, \"./saved_models\")"
   ]
  }
 ],
 "metadata": {
  "kernelspec": {
   "display_name": "env",
   "language": "python",
   "name": "env"
  },
  "language_info": {
   "codemirror_mode": {
    "name": "ipython",
    "version": 3
   },
   "file_extension": ".py",
   "mimetype": "text/x-python",
   "name": "python",
   "nbconvert_exporter": "python",
   "pygments_lexer": "ipython3",
   "version": "3.7.5"
  }
 },
 "nbformat": 4,
 "nbformat_minor": 2
}
