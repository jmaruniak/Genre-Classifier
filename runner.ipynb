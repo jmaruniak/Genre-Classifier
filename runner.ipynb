{
 "cells": [
  {
   "cell_type": "code",
   "execution_count": null,
   "metadata": {},
   "outputs": [],
   "source": [
    "import import_ipynb\n",
    "import cnn_genre_classifier_spectrograms as mgr\n",
    "import IPython.display as ipd\n",
    "import librosa\n",
    "import numpy as np\n",
    "import torch\n",
    "from pytorch_model_summary import summary"
   ]
  },
  {
   "cell_type": "code",
   "execution_count": null,
   "metadata": {},
   "outputs": [],
   "source": [
    "# path to file that stores spectrograms and genre labels for each processed segment\n",
    "DATA_PATH = \"/data/shared/GTZAN-DATASET/spectrograms_10segments.npy\"\n",
    "\n",
    "# load processed dataset\n",
    "    # X_train, X_validation, X_test, y_train, y_validation, y_test = mgr.load_data(DATA_PATH, test_size=0.10, validation_size=0.10)\n",
    "dataset = torch.load(\"./data/shuffled_sets_1.pth\")\n",
    "X_train = dataset['X_train']\n",
    "X_validation = dataset['X_validation']\n",
    "X_test = dataset['X_test']\n",
    "y_train = dataset['y_train']\n",
    "y_validation = dataset['y_validation']\n",
    "y_test = dataset['y_test']"
   ]
  },
  {
   "cell_type": "code",
   "execution_count": null,
   "metadata": {},
   "outputs": [],
   "source": [
    "# load existing or create new model\n",
    "\n",
    "# model = mgr.new_model()\n",
    "model = mgr.load_model(\"./saved_models/model-spectro10-epoch15-batch512.pth\")\n",
    "\n",
    "print(summary(model, torch.rand(1, 1, np.shape(X_train)[2], np.shape(X_train)[3]).cuda()), sep='\\n')"
   ]
  },
  {
   "cell_type": "code",
   "execution_count": null,
   "metadata": {},
   "outputs": [],
   "source": [
    "# training loop\n",
    "\n",
    "history = model.fit(\n",
    "    X_train, y_train,\n",
    "    validation_data=(X_validation, y_validation),\n",
    "    epochs=15,\n",
    "    batch_size=512,\n",
    "    log=True)"
   ]
  },
  {
   "cell_type": "code",
   "execution_count": null,
   "metadata": {},
   "outputs": [],
   "source": [
    "# plot results\n",
    "\n",
    "history = torch.load(\"./saved_models/model-spectro10-epoch15-batch512_history.pth\")\n",
    "mgr.plot_history(history)\n",
    "\n",
    "print(\"Max_train_acc:\", max(history['acc']), \"  Min_train_loss:\", min(history['loss']))\n",
    "print(\"Max_val_acc:\", max(history['val_acc']), \"  Min_val_loss:\", min(history['val_loss']))\n",
    "    \n",
    "t_acc, t_loss = model.test(X_test, y_test, out=True)"
   ]
  },
  {
   "cell_type": "code",
   "execution_count": null,
   "metadata": {},
   "outputs": [],
   "source": [
    "# rename model\n",
    "\n",
    "model.model_name = 'model-spectro10-epoch15-batch512'"
   ]
  },
  {
   "cell_type": "code",
   "execution_count": null,
   "metadata": {},
   "outputs": [],
   "source": [
    "# save model\n",
    "\n",
    "mgr.save_model(model, \"./saved_models\")"
   ]
  },
  {
   "cell_type": "code",
   "execution_count": null,
   "metadata": {},
   "outputs": [],
   "source": [
    "# save training history\n",
    "\n",
    "torch.save(history, \"./saved_models/\"  + model.model_name + \"_history.pth\")"
   ]
  },
  {
   "cell_type": "code",
   "execution_count": null,
   "metadata": {},
   "outputs": [],
   "source": [
    "# create and plot confusion matrix\n",
    "\n",
    "model_predictions = model.get_predictions(X_train)\n",
    "matrix = mgr.create_confusion_matrix(model_predictions, y_train)\n",
    "mgr.plot_confusion_matrix(matrix)"
   ]
  },
  {
   "cell_type": "code",
   "execution_count": null,
   "metadata": {},
   "outputs": [],
   "source": []
  },
  {
   "cell_type": "code",
   "execution_count": null,
   "metadata": {},
   "outputs": [],
   "source": []
  },
  {
   "cell_type": "code",
   "execution_count": null,
   "metadata": {},
   "outputs": [],
   "source": []
  },
  {
   "cell_type": "code",
   "execution_count": null,
   "metadata": {},
   "outputs": [],
   "source": []
  },
  {
   "cell_type": "code",
   "execution_count": null,
   "metadata": {},
   "outputs": [],
   "source": []
  },
  {
   "cell_type": "code",
   "execution_count": null,
   "metadata": {},
   "outputs": [],
   "source": [
    "model = mgr.load_model(\"./saved_models/model-spectro10-epoch15-batch512.pth\").cpu().eval()"
   ]
  },
  {
   "cell_type": "code",
   "execution_count": null,
   "metadata": {},
   "outputs": [],
   "source": [
    "# load and process specific musical sample, print spectrogram\n",
    "\n",
    "file_path = \"/data/shared/GTZAN-DATASET/genres_dataset/rock/rock.00090.wav\"\n",
    "\n",
    "signal, sample_rate = librosa.load(file_path, sr=22050)\n",
    "\n",
    "S_signal = librosa.stft(signal[0:66150], n_fft=1024, hop_length=512)\n",
    "\n",
    "Y_signal = np.abs(S_signal) ** 2\n",
    "\n",
    "Y_log_signal = librosa.power_to_db(Y_signal)\n",
    "\n",
    "mgr.plot_spectrogram(Y_log_signal, sample_rate, 512)\n",
    "\n",
    "ipd.Audio(file_path)"
   ]
  },
  {
   "cell_type": "code",
   "execution_count": null,
   "metadata": {},
   "outputs": [],
   "source": [
    "# create variables for GBP out of loaded sample\n",
    "\n",
    "sample_signal = torch.ones(1, 1, 513, 130)\n",
    "sample_signal[0][0] = torch.tensor(Y_log_signal)\n",
    "output = model(sample_signal)\n",
    "sample_prediction = torch.argmax(output)\n",
    "print(output, sample_prediction)\n",
    "    # mgr.plot_spectrogram(sample_signal[0][0].numpy(), 22050, 512)"
   ]
  },
  {
   "cell_type": "code",
   "execution_count": null,
   "metadata": {},
   "outputs": [],
   "source": [
    "# just a code to find most neutral input prediction\n",
    "\n",
    "minimum = torch.tensor(1)\n",
    "min_position = 0\n",
    "\n",
    "for i in range(100):\n",
    "    sample_signal = torch.ones(1, 1, 513, 130) * i\n",
    "    output = model(sample_signal)\n",
    "    prediction = torch.argmax(output)\n",
    "    value = output[0][prediction]\n",
    "    if value < minimum:\n",
    "        minimum = value\n",
    "        min_position = i\n",
    "        \n",
    "print(minimum, min_position)"
   ]
  },
  {
   "cell_type": "code",
   "execution_count": null,
   "metadata": {},
   "outputs": [],
   "source": [
    "# generate guided gradients and pos/neg saliency\n",
    "\n",
    "gbp = mgr.GuidedBackprop(model)\n",
    "guided_grads = gbp.generate_gradients(sample_signal, sample_prediction)\n",
    "pos_sal, neg_sal = mgr.get_positive_negative_saliency(guided_grads)"
   ]
  },
  {
   "cell_type": "code",
   "execution_count": null,
   "metadata": {},
   "outputs": [],
   "source": [
    "mgr.plot_spectrogram(guided_grads[0], 22050, 512)"
   ]
  },
  {
   "cell_type": "code",
   "execution_count": null,
   "metadata": {},
   "outputs": [],
   "source": []
  },
  {
   "cell_type": "code",
   "execution_count": null,
   "metadata": {},
   "outputs": [],
   "source": []
  },
  {
   "cell_type": "code",
   "execution_count": null,
   "metadata": {},
   "outputs": [],
   "source": []
  },
  {
   "cell_type": "code",
   "execution_count": null,
   "metadata": {},
   "outputs": [],
   "source": [
    "from PIL import Image\n",
    "\n",
    "def save_gradient_images(gradient, file_name):\n",
    "    if not os.path.exists('./results'):\n",
    "        os.makedirs('./results')\n",
    "    # normalize between 0-1\n",
    "    gradient = gradient - gradient.min()\n",
    "    gradient /= gradient.max()\n",
    "    # save image\n",
    "    path_to_file = os.path.join('./results', file_name + '.jpg')\n",
    "    save_image(gradient, path_to_file)\n",
    "\n",
    "    \n",
    "def save_image(im, path):\n",
    "    if isinstance(im, (np.ndarray, np.generic)):\n",
    "        im = format_np_output(im)\n",
    "        im = Image.fromarray(im)\n",
    "    im.save(path)\n",
    "    \n",
    "\n",
    "def format_np_output(np_arr):\n",
    "    # repeat first channel and convert 1xWxH to 3xWxH\n",
    "    if np_arr.shape[0] == 1:\n",
    "        np_arr = np.repeat(np_arr, 3, axis=0)\n",
    "    # convert to WxHx3 in order to make it saveable by PIL\n",
    "    if np_arr.shape[0] == 3:\n",
    "        np_arr = np_arr.transpose(1, 2, 0)\n",
    "    # multiply with 255 and change type to make it saveable by PIL\n",
    "    if np.max(np_arr) <= 1:\n",
    "        np_arr = (np_arr*255).astype(np.uint8)\n",
    "    return np_arr"
   ]
  },
  {
   "cell_type": "code",
   "execution_count": null,
   "metadata": {},
   "outputs": [],
   "source": [
    "save_gradient_images(guided_grads, 'test1' + '_guided_bp')\n",
    "save_gradient_images(pos_sal, 'test2' + '_pos_sal')\n",
    "save_gradient_images(neg_sal, 'test3' + '_neg_sal')"
   ]
  },
  {
   "cell_type": "code",
   "execution_count": null,
   "metadata": {},
   "outputs": [],
   "source": []
  },
  {
   "cell_type": "code",
   "execution_count": null,
   "metadata": {},
   "outputs": [],
   "source": []
  },
  {
   "cell_type": "code",
   "execution_count": null,
   "metadata": {},
   "outputs": [],
   "source": []
  },
  {
   "cell_type": "code",
   "execution_count": null,
   "metadata": {},
   "outputs": [],
   "source": []
  },
  {
   "cell_type": "code",
   "execution_count": null,
   "metadata": {},
   "outputs": [],
   "source": []
  },
  {
   "cell_type": "code",
   "execution_count": null,
   "metadata": {},
   "outputs": [],
   "source": []
  },
  {
   "cell_type": "code",
   "execution_count": null,
   "metadata": {},
   "outputs": [],
   "source": []
  },
  {
   "cell_type": "code",
   "execution_count": null,
   "metadata": {},
   "outputs": [],
   "source": []
  },
  {
   "cell_type": "code",
   "execution_count": null,
   "metadata": {},
   "outputs": [],
   "source": [
    "from captum.attr import IntegratedGradients"
   ]
  },
  {
   "cell_type": "code",
   "execution_count": null,
   "metadata": {},
   "outputs": [],
   "source": [
    "model = mgr.load_model(\"./saved_models/model-spectro10-epoch30-batch128.pth\").cpu().eval()"
   ]
  },
  {
   "cell_type": "code",
   "execution_count": null,
   "metadata": {},
   "outputs": [],
   "source": [
    "baseline = torch.zeros(1, 1, 513, 130)"
   ]
  },
  {
   "cell_type": "code",
   "execution_count": null,
   "metadata": {},
   "outputs": [],
   "source": [
    "model(baseline)"
   ]
  },
  {
   "cell_type": "code",
   "execution_count": null,
   "metadata": {},
   "outputs": [],
   "source": [
    "ig = IntegratedGradients(model)"
   ]
  },
  {
   "cell_type": "code",
   "execution_count": null,
   "metadata": {},
   "outputs": [],
   "source": [
    "attributions, delta = ig.attribute(sample_signal, baseline, target=sample_prediction, return_convergence_delta=True)\n",
    "print('IG Attributions:', attributions)\n",
    "print('Convergence Delta:', delta)"
   ]
  },
  {
   "cell_type": "code",
   "execution_count": null,
   "metadata": {},
   "outputs": [],
   "source": [
    "mgr.plot_spectrogram(attributions[0][0], 22050, 512)"
   ]
  }
 ],
 "metadata": {
  "kernelspec": {
   "display_name": "env",
   "language": "python",
   "name": "env"
  },
  "language_info": {
   "codemirror_mode": {
    "name": "ipython",
    "version": 3
   },
   "file_extension": ".py",
   "mimetype": "text/x-python",
   "name": "python",
   "nbconvert_exporter": "python",
   "pygments_lexer": "ipython3",
   "version": "3.7.5"
  }
 },
 "nbformat": 4,
 "nbformat_minor": 4
}
