{
 "cells": [
  {
   "cell_type": "code",
   "execution_count": null,
   "metadata": {},
   "outputs": [],
   "source": [
    "import import_ipynb\n",
    "import cnn_genre_classifier_spectrograms as mgr\n",
    "import torch\n",
    "import numpy as np\n",
    "from pytorch_model_summary import summary\n",
    "\n",
    "\n",
    "# path to file that stores spectrograms and genre labels for each processed segment\n",
    "DATA_PATH = \"/data/shared/GTZAN-DATASET/spectrograms_10segments.npy\""
   ]
  },
  {
   "cell_type": "code",
   "execution_count": null,
   "metadata": {},
   "outputs": [],
   "source": [
    "# load and split processed dataset\n",
    "\n",
    "X_train, X_validation, X_test, y_train, y_validation, y_test = mgr.load_data(DATA_PATH, test_size=0.10, validation_size=0.10)"
   ]
  },
  {
   "cell_type": "code",
   "execution_count": null,
   "metadata": {},
   "outputs": [],
   "source": [
    "# load existing or create new model\n",
    "\n",
    "model = mgr.new_model()\n",
    "# model = mgr.load_model(\"./saved_models/model-1616675807trained.pth\")\n",
    "\n",
    "print(summary(model, torch.rand(1, 1, np.shape(X_train)[2], np.shape(X_train)[3]).to(torch.device(\"cuda:0\"))), sep='\\n')"
   ]
  },
  {
   "cell_type": "code",
   "execution_count": null,
   "metadata": {},
   "outputs": [],
   "source": [
    "# training loop\n",
    "\n",
    "history = model.fit(\n",
    "    X_train, y_train,\n",
    "    validation_data=(X_validation, y_validation), \n",
    "    epochs=40, \n",
    "    batch_size=128,\n",
    "    log=True)"
   ]
  },
  {
   "cell_type": "code",
   "execution_count": null,
   "metadata": {},
   "outputs": [],
   "source": [
    "# plot results\n",
    "\n",
    "mgr.plot_history(history)\n",
    "\n",
    "print(\"Max_train_acc:\", max(history['acc']), \"  Min_train_loss:\", min(history['loss']))\n",
    "print(\"Max_val_acc:\", max(history['val_acc']), \"  Min_val_loss:\", min(history['val_loss']))\n",
    "    \n",
    "t_acc, t_loss = model.test(X_test, y_test, out=True)"
   ]
  },
  {
   "cell_type": "code",
   "execution_count": null,
   "metadata": {},
   "outputs": [],
   "source": [
    "mgr.save_model(model, \"./saved_models\")"
   ]
  }
 ],
 "metadata": {
  "kernelspec": {
   "display_name": "env",
   "language": "python",
   "name": "env"
  },
  "language_info": {
   "codemirror_mode": {
    "name": "ipython",
    "version": 3
   },
   "file_extension": ".py",
   "mimetype": "text/x-python",
   "name": "python",
   "nbconvert_exporter": "python",
   "pygments_lexer": "ipython3",
   "version": "3.7.5"
  }
 },
 "nbformat": 4,
 "nbformat_minor": 2
}
